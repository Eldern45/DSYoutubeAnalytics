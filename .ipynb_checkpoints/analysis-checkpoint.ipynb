{
 "cells": [
  {
   "cell_type": "code",
   "execution_count": 1,
   "id": "93122561-32af-47c6-8b44-5b08cf6f8d55",
   "metadata": {},
   "outputs": [],
   "source": [
    "import pandas as pd\n",
    "\n",
    "videosUS = pd.read_csv('US_youtube_trending_data.csv')\n",
    "videosUK = pd.read_csv('GB_youtube_trending_data.csv')\n",
    "\n",
    "#print(videosUS.head())\n",
    "#print(videosUK.head())"
   ]
  },
  {
   "cell_type": "code",
   "execution_count": 2,
   "id": "64ec5306-4bdd-48c1-b24d-c4576bdbcc36",
   "metadata": {},
   "outputs": [],
   "source": [
    "categDict = {\"1\":\"Film & Animation\",\"2\":\"Autos & Vehicles\",\"10\":\"Music\",\"15\":\"Pets & Animals\",\"17\":\"Sports\",\n",
    "             \"18\":\"Short Movies\",\"19\":\"Travel & Events\",\"20\":\"Gaming\",\"21\":\"Videoblogging\",\"22\":\"People & Blogs\",\n",
    "             \"23\":\"Comedy\",\"24\":\"Entertainment\",\"25\":\"News & Politics\",\"26\":\"Howto & Style\",\"27\":\"Education\",\n",
    "             \"28\":\"Science & Technology\",\"29\":\"Nonprofits & Activism\",\"30\":\"Movies\",\"31\":\"Anime/Animation\",\n",
    "             \"32\":\"Action/Adventure\",\"33\":\"Classics\",\"34\":\"Comedy\",\"35\":\"Documentary\",\"36\":\"Drama\",\"37\":\"Family\",\n",
    "             \"38\":\"Foreign\",\"39\":\"Horror\",\"40\":\"Sci-Fi/Fantasy\",\"41\":\"Thriller\",\"42\":\"Shorts\",\"43\":\"Shows\",\"44\":\"Trailers\"}"
   ]
  },
  {
   "cell_type": "code",
   "execution_count": 3,
   "id": "c7c28ad3-b786-4fad-8d2e-d687a6ec7c5f",
   "metadata": {},
   "outputs": [
    {
     "name": "stderr",
     "output_type": "stream",
     "text": [
      "C:\\Users\\Timaty\\AppData\\Local\\Temp\\ipykernel_135992\\1557644945.py:34: SettingWithCopyWarning: \n",
      "A value is trying to be set on a copy of a slice from a DataFrame.\n",
      "Try using .loc[row_indexer,col_indexer] = value instead\n",
      "\n",
      "See the caveats in the documentation: https://pandas.pydata.org/pandas-docs/stable/user_guide/indexing.html#returning-a-view-versus-a-copy\n",
      "  df['category_name'] = df['categoryId'].astype(str).map(categDict)\n"
     ]
    }
   ],
   "source": [
    "# Concatenate two DataFrames, videosUS and videosUK, vertically (row-wise)\n",
    "# axis=0 indicates concatenation along rows\n",
    "videosAll = pd.concat([videosUS, videosUK], axis=0)\n",
    "\n",
    "# Reset the index of the concatenated DataFrame to ensure it runs sequentially from 0\n",
    "# drop=True ensures the old index is discarded and not added as a column\n",
    "videosAll = videosAll.reset_index(drop=True)\n",
    "\n",
    "# Remove duplicate entries based on the 'video_id' column\n",
    "# subset='video_id' specifies the column to check for duplicates\n",
    "# keep='first' retains the first occurrence and drops subsequent duplicates\n",
    "videosAll = videosAll.drop_duplicates(subset='video_id', keep='first')\n",
    "\n",
    "# Define a dictionary to map certain category IDs to new category IDs\n",
    "category_mapping = {\n",
    "    29: 25,  # Nonprofits & Activism → News & Politics\n",
    "    19: 22,  # Travel & Events → People & Blogs\n",
    "    15: 24   # Pets & Animals → Entertainment\n",
    "}\n",
    "\n",
    "# Define a function to remap category IDs based on the category_mapping dictionary\n",
    "def remap_category(cat_id):\n",
    "    return category_mapping.get(cat_id, cat_id)\n",
    "\n",
    "# Apply the remap_category function to the 'categoryId' column of videosAll\n",
    "# This updates the category IDs according to the defined mapping\n",
    "videosAll['categoryId'] = videosAll['categoryId'].apply(remap_category)\n",
    "\n",
    "# Create a new DataFrame 'df' containing only the relevant columns for the predictive model\n",
    "# Columns included are 'title', 'tags', 'description', and the updated 'categoryId'\n",
    "df = videosAll[['title', 'tags', 'description', 'categoryId']]\n",
    "\n",
    "# Map the numeric 'categoryId' to their corresponding category names using 'categDict'\n",
    "df['category_name'] = df['categoryId'].astype(str).map(categDict)\n"
   ]
  },
  {
   "cell_type": "code",
   "execution_count": 4,
   "id": "313f35dd-0827-4e4d-b959-6f10d6303dd8",
   "metadata": {},
   "outputs": [
    {
     "name": "stderr",
     "output_type": "stream",
     "text": [
      "[nltk_data] Downloading package stopwords to\n",
      "[nltk_data]     C:\\Users\\Timaty\\AppData\\Roaming\\nltk_data...\n",
      "[nltk_data]   Package stopwords is already up-to-date!\n",
      "C:\\Users\\Timaty\\AppData\\Local\\Temp\\ipykernel_135992\\2165129104.py:65: SettingWithCopyWarning: \n",
      "A value is trying to be set on a copy of a slice from a DataFrame\n",
      "\n",
      "See the caveats in the documentation: https://pandas.pydata.org/pandas-docs/stable/user_guide/indexing.html#returning-a-view-versus-a-copy\n",
      "  df.loc[f'cleaned_{col}'] = \"\"  # Initialize the new column with empty strings\n",
      "C:\\Users\\Timaty\\AppData\\Local\\Temp\\ipykernel_135992\\2165129104.py:65: SettingWithCopyWarning: \n",
      "A value is trying to be set on a copy of a slice from a DataFrame\n",
      "\n",
      "See the caveats in the documentation: https://pandas.pydata.org/pandas-docs/stable/user_guide/indexing.html#returning-a-view-versus-a-copy\n",
      "  df.loc[f'cleaned_{col}'] = \"\"  # Initialize the new column with empty strings\n",
      "C:\\Users\\Timaty\\AppData\\Local\\Temp\\ipykernel_135992\\2165129104.py:65: SettingWithCopyWarning: \n",
      "A value is trying to be set on a copy of a slice from a DataFrame\n",
      "\n",
      "See the caveats in the documentation: https://pandas.pydata.org/pandas-docs/stable/user_guide/indexing.html#returning-a-view-versus-a-copy\n",
      "  df.loc[f'cleaned_{col}'] = \"\"  # Initialize the new column with empty strings\n",
      "Cleaning Columns:   0%|                                                                          | 0/3 [00:00<?, ?it/s]C:\\Users\\Timaty\\AppData\\Local\\Temp\\ipykernel_135992\\2165129104.py:73: SettingWithCopyWarning: \n",
      "A value is trying to be set on a copy of a slice from a DataFrame.\n",
      "Try using .loc[row_indexer,col_indexer] = value instead\n",
      "\n",
      "See the caveats in the documentation: https://pandas.pydata.org/pandas-docs/stable/user_guide/indexing.html#returning-a-view-versus-a-copy\n",
      "  df[f'cleaned_{col}'] = df[col].apply(clean_text)\n",
      "Cleaning Columns:  33%|██████████████████████                                            | 1/3 [00:02<00:05,  2.71s/it]C:\\Users\\Timaty\\AppData\\Local\\Temp\\ipykernel_135992\\2165129104.py:73: SettingWithCopyWarning: \n",
      "A value is trying to be set on a copy of a slice from a DataFrame.\n",
      "Try using .loc[row_indexer,col_indexer] = value instead\n",
      "\n",
      "See the caveats in the documentation: https://pandas.pydata.org/pandas-docs/stable/user_guide/indexing.html#returning-a-view-versus-a-copy\n",
      "  df[f'cleaned_{col}'] = df[col].apply(clean_text)\n",
      "Cleaning Columns:  67%|████████████████████████████████████████████                      | 2/3 [00:03<00:01,  1.33s/it]C:\\Users\\Timaty\\AppData\\Local\\Temp\\ipykernel_135992\\2165129104.py:71: SettingWithCopyWarning: \n",
      "A value is trying to be set on a copy of a slice from a DataFrame.\n",
      "Try using .loc[row_indexer,col_indexer] = value instead\n",
      "\n",
      "See the caveats in the documentation: https://pandas.pydata.org/pandas-docs/stable/user_guide/indexing.html#returning-a-view-versus-a-copy\n",
      "  df[f'cleaned_{col}'] = df[col].apply(clean_tags)\n",
      "Cleaning Columns: 100%|██████████████████████████████████████████████████████████████████| 3/3 [00:06<00:00,  2.16s/it]\n"
     ]
    }
   ],
   "source": [
    "import pandas as pd\n",
    "import re\n",
    "import nltk\n",
    "from nltk.corpus import stopwords\n",
    "from langdetect import detect, DetectorFactory, LangDetectException\n",
    "from tqdm import tqdm\n",
    "\n",
    "# Download the NLTK stopwords corpus if not already downloaded\n",
    "nltk.download('stopwords')\n",
    "\n",
    "\n",
    "def clean_text(text):\n",
    "    if pd.isnull(text):\n",
    "        return \"\"\n",
    "    \n",
    "    # This pattern matches http, https, and www links\n",
    "    text = re.sub(r'http\\S+|www\\S+|https\\S+', '', text, flags=re.MULTILINE)\n",
    "    \n",
    "    # This pattern matches any content within < and >\n",
    "    text = re.sub(r'<.*?>', '', text)\n",
    "    \n",
    "    # This pattern removes anything that's not an uppercase/lowercase letter or whitespace\n",
    "    text = re.sub(r'[^A-Za-z\\s]', '', text)\n",
    "\n",
    "    text = text.lower()\n",
    "    text = re.sub(r'\\s+', ' ', text).strip()\n",
    "    \n",
    "    # Remove stopwords from the cleaned text\n",
    "    return remove_stopwords(text)\n",
    "\n",
    "# Define a set of English stopwords using NLTK's predefined list\n",
    "stop_words = set(stopwords.words('english'))    \n",
    "\n",
    "\n",
    "def remove_stopwords(text):\n",
    "    if not text:\n",
    "        return \"\"\n",
    "    \n",
    "    # Split the text into individual words (tokens)\n",
    "    tokens = text.split()\n",
    "    \n",
    "    # Filter out tokens that are in the stop_words set\n",
    "    filtered_tokens = [word for word in tokens if word not in stop_words]\n",
    "    \n",
    "    return ' '.join(filtered_tokens)\n",
    "\n",
    "\n",
    "def clean_tags(tags):\n",
    "    if pd.isnull(tags):\n",
    "        return \"\"\n",
    "    \n",
    "    tag_list = tags.split('|')\n",
    "    cleaned_tags = [clean_text(tag.strip()) for tag in tag_list]\n",
    "    \n",
    "    # Remove stopwords from each cleaned tag\n",
    "    cleaned_tags = [remove_stopwords(tag) for tag in cleaned_tags]\n",
    "    \n",
    "    return ' '.join(cleaned_tags)\n",
    "\n",
    "# Define a list of columns in the DataFrame that need to be cleaned\n",
    "columns_to_clean = ['description', 'title', 'tags']\n",
    "\n",
    "# Initialize new columns in the DataFrame to store the cleaned data\n",
    "for col in columns_to_clean:\n",
    "    df.loc[f'cleaned_{col}'] = \"\"  # Initialize the new column with empty strings\n",
    "\n",
    "# Apply the appropriate cleaning function to each column with a progress bar\n",
    "# (tqdm was for us to see the progress)\n",
    "for col in tqdm(columns_to_clean, desc=\"Cleaning Columns\"):\n",
    "    if col == 'tags':\n",
    "        df[f'cleaned_{col}'] = df[col].apply(clean_tags)\n",
    "    else:\n",
    "        df[f'cleaned_{col}'] = df[col].apply(clean_text)\n"
   ]
  },
  {
   "cell_type": "code",
   "execution_count": 5,
   "id": "00bbc7cc-1024-4e54-81a6-a6c0030704ea",
   "metadata": {},
   "outputs": [
    {
     "name": "stderr",
     "output_type": "stream",
     "text": [
      "C:\\Users\\Timaty\\AppData\\Local\\Temp\\ipykernel_135992\\1693627091.py:15: SettingWithCopyWarning: \n",
      "A value is trying to be set on a copy of a slice from a DataFrame.\n",
      "Try using .loc[row_indexer,col_indexer] = value instead\n",
      "\n",
      "See the caveats in the documentation: https://pandas.pydata.org/pandas-docs/stable/user_guide/indexing.html#returning-a-view-versus-a-copy\n",
      "  df['combined_text'] = df['cleaned_title'] + ' ' + df['cleaned_tags'] + ' ' + df['cleaned_description']\n"
     ]
    },
    {
     "name": "stdout",
     "output_type": "stream",
     "text": [
      "Training set: 59759 records\n",
      "Test set: 10546 records\n",
      "Training set after vectorization: (59759, 5000)\n",
      "Test set after vectorization: (10546, 5000)\n",
      "--- Model Evaluation: Random Forest ---\n",
      "Accuracy: 0.8456\n",
      "\n",
      "Classification Report:\n",
      "                      precision    recall  f1-score   support\n",
      "\n",
      "                           0.00      0.00      0.00         1\n",
      "    Autos & Vehicles       0.82      0.87      0.84       260\n",
      "              Comedy       0.85      0.61      0.71       460\n",
      "           Education       0.96      0.65      0.77       215\n",
      "       Entertainment       0.72      0.83      0.77      2165\n",
      "    Film & Animation       0.90      0.56      0.69       316\n",
      "              Gaming       0.88      0.94      0.91      1706\n",
      "       Howto & Style       0.91      0.55      0.69       249\n",
      "               Music       0.88      0.94      0.91      1435\n",
      "     News & Politics       0.86      0.86      0.86       384\n",
      "      People & Blogs       0.78      0.65      0.71      1028\n",
      "Science & Technology       0.92      0.78      0.84       280\n",
      "              Sports       0.94      0.97      0.95      2047\n",
      "\n",
      "            accuracy                           0.85     10546\n",
      "           macro avg       0.80      0.71      0.74     10546\n",
      "        weighted avg       0.85      0.85      0.84     10546\n",
      "\n"
     ]
    },
    {
     "name": "stderr",
     "output_type": "stream",
     "text": [
      "C:\\Users\\Timaty\\miniconda3\\envs\\IDS\\Lib\\site-packages\\sklearn\\metrics\\_classification.py:1531: UndefinedMetricWarning: Precision is ill-defined and being set to 0.0 in labels with no predicted samples. Use `zero_division` parameter to control this behavior.\n",
      "  _warn_prf(average, modifier, f\"{metric.capitalize()} is\", len(result))\n",
      "C:\\Users\\Timaty\\miniconda3\\envs\\IDS\\Lib\\site-packages\\sklearn\\metrics\\_classification.py:1531: UndefinedMetricWarning: Precision is ill-defined and being set to 0.0 in labels with no predicted samples. Use `zero_division` parameter to control this behavior.\n",
      "  _warn_prf(average, modifier, f\"{metric.capitalize()} is\", len(result))\n",
      "C:\\Users\\Timaty\\miniconda3\\envs\\IDS\\Lib\\site-packages\\sklearn\\metrics\\_classification.py:1531: UndefinedMetricWarning: Precision is ill-defined and being set to 0.0 in labels with no predicted samples. Use `zero_division` parameter to control this behavior.\n",
      "  _warn_prf(average, modifier, f\"{metric.capitalize()} is\", len(result))\n"
     ]
    },
    {
     "data": {
      "image/png": "[encoded data removed]",
      "text/plain": [
       "<Figure size 1000x800 with 2 Axes>"
      ]
     },
     "metadata": {},
     "output_type": "display_data"
    }
   ],
   "source": [
    "import numpy as np\n",
    "from sklearn.feature_extraction.text import TfidfVectorizer\n",
    "from sklearn.model_selection import train_test_split\n",
    "from sklearn.ensemble import RandomForestClassifier \n",
    "from sklearn.metrics import accuracy_score, classification_report, confusion_matrix\n",
    "import matplotlib.pyplot as plt            \n",
    "import seaborn as sns   \n",
    "\n",
    "\n",
    "%matplotlib inline\n",
    "sns.set(style=\"whitegrid\")\n",
    "\n",
    "\n",
    "# Combining cleaned text fields into a single feature for modeling\n",
    "df['combined_text'] = df['cleaned_title'] + ' ' + df['cleaned_tags'] + ' ' + df['cleaned_description']\n",
    "\n",
    "\n",
    "X = df['combined_text']   \n",
    "y = df['category_name'] \n",
    "\n",
    "\n",
    "# stratify=y maintains the same proportion of classes in both training and testing sets\n",
    "X_train, X_test, y_train, y_test = train_test_split(\n",
    "    X, y, test_size=0.15, random_state=10, stratify=y\n",
    ")\n",
    "\n",
    "\n",
    "print(f'Training set: {X_train.shape[0]} records')\n",
    "print(f'Test set: {X_test.shape[0]} records')\n",
    "\n",
    "\n",
    "# Initializing the TfidfVectorizer for converting text data into numerical features\n",
    "vectorizer = TfidfVectorizer(\n",
    "    max_features=5000,        # Maximum number of features\n",
    "    ngram_range=(1, 2),       # Consider both unigrams and bigrams\n",
    "    stop_words='english',     # Remove English stopwords (already removed during cleaning, but just in case)\n",
    "    lowercase=True            # Convert all characters to lowercase (also done, but just in case)\n",
    ")\n",
    "\n",
    "# Fitting the vectorizer on the training data and transforming the training data into TF-IDF features\n",
    "X_train_tfidf = vectorizer.fit_transform(X_train)\n",
    "\n",
    "# Transforming the test data into TF-IDF features using the already fitted vectorizer\n",
    "X_test_tfidf = vectorizer.transform(X_test)\n",
    "\n",
    "# Printing the shape of the vectorized training and testing data\n",
    "print(f'Training set after vectorization: {X_train_tfidf.shape}')\n",
    "print(f'Test set after vectorization: {X_test_tfidf.shape}')\n",
    "\n",
    "# Initializing the Random Forest Classifier with specified parameters\n",
    "rf_model = RandomForestClassifier(\n",
    "    n_estimators=500,    # Number of trees in the forest\n",
    "    random_state=10,     # Ensures reproducibility of the results\n",
    "    n_jobs=-1            # Utilize all available CPU cores for parallel processing (to run fast, I was tired of waiting)\n",
    ")\n",
    "\n",
    "\n",
    "rf_model.fit(X_train_tfidf, y_train)\n",
    "y_pred_rf = rf_model.predict(X_test_tfidf)\n",
    "\n",
    "def evaluate_model(y_true, y_pred, model_name):\n",
    "    print(f\"--- Model Evaluation: {model_name} ---\")\n",
    "    \n",
    "    acc = accuracy_score(y_true, y_pred)\n",
    "    print(f\"Accuracy: {acc:.4f}\")\n",
    "    \n",
    "    print(\"\\nClassification Report:\")\n",
    "    print(classification_report(y_true, y_pred))\n",
    "    \n",
    "\n",
    "    plt.figure(figsize=(10, 8)) \n",
    "    cm = confusion_matrix(y_true, y_pred, labels=y_true.unique())\n",
    "    sns.heatmap(cm, annot=False, fmt='d', cmap='Blues', \n",
    "                xticklabels=y_true.unique(), \n",
    "                yticklabels=y_true.unique())\n",
    "    plt.title(f'Confusion Matrix - {model_name}')  \n",
    "    plt.ylabel('Actual')\n",
    "    plt.xlabel('Predicted')\n",
    "    plt.show() \n",
    "\n",
    "\n",
    "# Evaluating the Random Forest model\n",
    "evaluate_model(y_test, y_pred_rf, \"Random Forest\")\n"
   ]
  },
  {
   "cell_type": "markdown",
   "id": "9cbecc6c-a5e7-4a58-8205-d07ca77a524c",
   "metadata": {},
   "source": [
    "## CUSTOM TEST FOR A SINGLE VIDEO (manually written title, tags etc)"
   ]
  },
  {
   "cell_type": "code",
   "execution_count": 6,
   "id": "8a967395-378f-4ef9-ba34-47de7f9c42f7",
   "metadata": {},
   "outputs": [],
   "source": [
    "def predictCateg(cTitle, cTags, cDesc):\n",
    "    custom_text = f\"{custom_tags.replace('|', ' ')} {clean_text(custom_title)} {clean_text(custom_description)}\"\n",
    "    custom_text_vectorized = vectorizer.transform([custom_text])\n",
    "    answer = rf_model.predict(custom_text_vectorized)[0]\n",
    "    print(\"I think the category is : \" + answer )"
   ]
  },
  {
   "cell_type": "code",
   "execution_count": 7,
   "id": "d3081a9b-d9c9-4f90-8f8a-f68d123debaf",
   "metadata": {},
   "outputs": [
    {
     "name": "stdout",
     "output_type": "stream",
     "text": [
      "I think the category is : Entertainment\n"
     ]
    }
   ],
   "source": [
    "custom_title = \"Funny cats compilation\"\n",
    "custom_tags = \"animals|cats|kitties|funny|compilation\"\n",
    "custom_description = \"watch funny cats HD high quality video mega compilation. Funny animals\"\n",
    "\n",
    "predictCateg(custom_title, custom_tags, custom_description)"
   ]
  },
  {
   "cell_type": "code",
   "execution_count": 8,
   "id": "81335813-d34a-4563-90c2-8fb3e9988b49",
   "metadata": {},
   "outputs": [
    {
     "name": "stdout",
     "output_type": "stream",
     "text": [
      "I think the category is : Gaming\n"
     ]
    }
   ],
   "source": [
    "custom_title = \"Minecraft let's play\"\n",
    "custom_tags = \"minecraft\"\n",
    "custom_channelTitle = \"Gamer44444\"\n",
    "custom_description = \"In this episode we'll search for diamonds\"\n",
    "\n",
    "predictCateg(custom_title, custom_tags, custom_description)"
   ]
  },
  {
   "cell_type": "code",
   "execution_count": 9,
   "id": "56398566-3be0-47d1-95a3-89ff6c68c494",
   "metadata": {},
   "outputs": [
    {
     "name": "stdout",
     "output_type": "stream",
     "text": [
      "I think the category is : Science & Technology\n"
     ]
    }
   ],
   "source": [
    "custom_title = \"First space shuttle\"\n",
    "custom_tags = \"space|science|NASA\"\n",
    "custom_channelTitle = \"NASA\"\n",
    "custom_description = \"First space shuttle history\"\n",
    "\n",
    "predictCateg(custom_title, custom_tags, custom_description)"
   ]
  },
  {
   "cell_type": "code",
   "execution_count": 10,
   "id": "f39837b1-ccc2-40d7-909f-6d47dec713af",
   "metadata": {},
   "outputs": [
    {
     "name": "stdout",
     "output_type": "stream",
     "text": [
      "I think the category is : Music\n"
     ]
    }
   ],
   "source": [
    "custom_title = \"Official music video\"\n",
    "custom_tags = \"new song|guitar\"\n",
    "custom_channelTitle = \"\"\n",
    "custom_description = \"Vocals by: e composed by: e\"\n",
    "\n",
    "predictCateg(custom_title, custom_tags, custom_description)"
   ]
  },
  {
   "cell_type": "code",
   "execution_count": 11,
   "id": "bce1f463-7e8a-4a6f-95bf-eb3b0a9aaf54",
   "metadata": {},
   "outputs": [
    {
     "name": "stdout",
     "output_type": "stream",
     "text": [
      "I think the category is : Sports\n"
     ]
    }
   ],
   "source": [
    "custom_title = \"Underdogs to Champions: Greatest Upsets in Sports History\"\n",
    "custom_tags = \"soccer\"\n",
    "custom_channelTitle = \"History\"\n",
    "custom_description = \"Athlete’s Journey: From Local Fields to Olympic Gold Ping Pong Prodigies: The Skill Behind the Game\"\n",
    "\n",
    "predictCateg(custom_title, custom_tags, custom_description)"
   ]
  },
  {
   "cell_type": "code",
   "execution_count": 12,
   "id": "a86ddca1-b0be-49ea-b95f-b73a79764600",
   "metadata": {},
   "outputs": [
    {
     "name": "stdout",
     "output_type": "stream",
     "text": [
      "I think the category is : News & Politics\n"
     ]
    }
   ],
   "source": [
    "custom_title = \"Police ram straight through climate activist blockade in Nevada\"\n",
    "custom_tags = \"\"\n",
    "custom_channelTitle = \"The Telegraph\"\n",
    "custom_description = \"Frightened activists screamed as the truck drove straight through the blockade, damaging the setup and the truck itself.\"\n",
    "\n",
    "predictCateg(custom_title, custom_tags, custom_description)"
   ]
  }
 ],
 "metadata": {
  "kernelspec": {
   "display_name": "Python 3 (ipykernel)",
   "language": "python",
   "name": "python3"
  },
  "language_info": {
   "codemirror_mode": {
    "name": "ipython",
    "version": 3
   },
   "file_extension": ".py",
   "mimetype": "text/x-python",
   "name": "python",
   "nbconvert_exporter": "python",
   "pygments_lexer": "ipython3",
   "version": "3.12.3"
  }
 },
 "nbformat": 4,
 "nbformat_minor": 5
}
