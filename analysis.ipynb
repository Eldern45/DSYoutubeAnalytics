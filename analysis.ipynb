<<<<<<< HEAD
{
 "cells": [
  {
   "cell_type": "code",
   "execution_count": 39,
   "id": "93122561-32af-47c6-8b44-5b08cf6f8d55",
   "metadata": {},
   "outputs": [],
   "source": [
    "import pandas as pd\n",
    "\n",
    "videosUS = pd.read_csv('US_youtube_trending_data.csv')\n",
    "videosUK = pd.read_csv('GB_youtube_trending_data.csv')\n",
    "\n",
    "#print(videosUS.head())\n",
    "#print(videosUK.head())"
   ]
  },
  {
   "cell_type": "code",
   "execution_count": 45,
   "id": "64ec5306-4bdd-48c1-b24d-c4576bdbcc36",
   "metadata": {},
   "outputs": [],
   "source": [
    "categDict = {\"1\":\"Film & Animation\",\"2\":\"Autos & Vehicles\",\"10\":\"Music\",\"15\":\"Pets & Animals\",\"17\":\"Sports\",\n",
    "             \"18\":\"Short Movies\",\"19\":\"Travel & Events\",\"20\":\"Gaming\",\"21\":\"Videoblogging\",\"22\":\"People & Blogs\",\n",
    "             \"23\":\"Comedy\",\"24\":\"Entertainment\",\"25\":\"News & Politics\",\"26\":\"Howto & Style\",\"27\":\"Education\",\n",
    "             \"28\":\"Science & Technology\",\"29\":\"Nonprofits & Activism\",\"30\":\"Movies\",\"31\":\"Anime/Animation\",\n",
    "             \"32\":\"Action/Adventure\",\"33\":\"Classics\",\"34\":\"Comedy\",\"35\":\"Documentary\",\"36\":\"Drama\",\"37\":\"Family\",\n",
    "             \"38\":\"Foreign\",\"39\":\"Horror\",\"40\":\"Sci-Fi/Fantasy\",\"41\":\"Thriller\",\"42\":\"Shorts\",\"43\":\"Shows\",\"44\":\"Trailers\"}"
   ]
  },
  {
   "cell_type": "code",
   "execution_count": 40,
   "id": "c7c28ad3-b786-4fad-8d2e-d687a6ec7c5f",
   "metadata": {},
   "outputs": [],
   "source": [
    "videosAll = pd.concat([videosUS, videosUK], axis=0)\n",
    "videosAll = videosAll.reset_index(drop=True)"
   ]
  },
  {
   "cell_type": "code",
   "execution_count": 22,
   "id": "5e1a66c5-1429-41dc-b460-6e1a9445535c",
   "metadata": {},
   "outputs": [],
   "source": [
    "from sklearn.feature_extraction.text import CountVectorizer\n",
    "from sklearn.preprocessing import LabelEncoder\n",
    "from sklearn.model_selection import train_test_split"
   ]
  },
  {
   "cell_type": "code",
   "execution_count": 41,
   "id": "b9503a17-3582-4562-ab13-938257702e96",
   "metadata": {},
   "outputs": [],
   "source": [
    "videosAll['categ_predictors'] = (videosAll['tags'] + ' ' +\n",
    "                              videosAll['title'] + ' ' +\n",
    "                              videosAll['channelTitle'] + ' ' +\n",
    "                              videosAll['description']).fillna('')\n",
    "\n",
    "videosAll['categ_predictors'] = videosAll['categ_predictors'].str.replace('|', ' ').replace('.', '').replace(',', '').replace('!', '')\n",
    "\n",
    "vectorizer = CountVectorizer()\n",
    "categ_predictors = vectorizer.fit_transform(videosAll['categ_predictors'])"
   ]
  },
  {
   "cell_type": "code",
   "execution_count": 42,
   "id": "dac6177d-54f4-4c9b-abbd-43e25d77db4a",
   "metadata": {},
   "outputs": [],
   "source": [
    "from sklearn.model_selection import train_test_split\n",
    "\n",
    "X_train, X_test, y_train, y_test = train_test_split(categ_predictors, videosAll['categoryId'], test_size=0.2, random_state=0)"
   ]
  },
  {
   "cell_type": "code",
   "execution_count": 43,
   "id": "8c6540f3-88c5-4995-b10c-757148d32466",
   "metadata": {},
   "outputs": [
    {
     "name": "stdout",
     "output_type": "stream",
     "text": [
      "Accuracy: 0.9098552773540682\n",
      "              precision    recall  f1-score   support\n",
      "\n",
      "           1       0.82      0.89      0.86      3825\n",
      "           2       0.88      0.98      0.93      2446\n",
      "          10       0.96      0.95      0.95     15253\n",
      "          15       0.96      0.89      0.92       445\n",
      "          17       0.94      0.97      0.95     16105\n",
      "          19       0.94      0.96      0.95       874\n",
      "          20       0.95      0.96      0.96     19869\n",
      "          22       0.84      0.79      0.82      9328\n",
      "          23       0.89      0.90      0.89      5143\n",
      "          24       0.88      0.82      0.85     22407\n",
      "          25       0.88      0.96      0.92      3228\n",
      "          26       0.79      0.91      0.85      2572\n",
      "          27       0.94      0.91      0.93      2681\n",
      "          28       0.93      0.96      0.95      3300\n",
      "          29       0.27      0.25      0.26        40\n",
      "\n",
      "    accuracy                           0.91    107516\n",
      "   macro avg       0.86      0.87      0.87    107516\n",
      "weighted avg       0.91      0.91      0.91    107516\n",
      "\n"
     ]
    }
   ],
   "source": [
    "from sklearn.naive_bayes import MultinomialNB\n",
    "from sklearn.metrics import accuracy_score, classification_report\n",
    "\n",
    "model = MultinomialNB()\n",
    "model.fit(X_train, y_train)\n",
    "\n",
    "y_pred = model.predict(X_test)\n",
    "print(\"Accuracy:\", accuracy_score(y_test, y_pred))\n",
    "print(classification_report(y_test, y_pred))"
   ]
  },
  {
   "cell_type": "markdown",
   "id": "9cbecc6c-a5e7-4a58-8205-d07ca77a524c",
   "metadata": {},
   "source": [
    "## CUSTOM TEST FOR A SINGLE VIDEO (manually written title, tags etc)"
   ]
  },
  {
   "cell_type": "code",
   "execution_count": 48,
   "id": "8a967395-378f-4ef9-ba34-47de7f9c42f7",
   "metadata": {},
   "outputs": [],
   "source": [
    "def predictCateg(cTitle, cTags, cChannel, cDesc):\n",
    "    custom_text = f\"{custom_tags.replace('|', ' ')} {custom_title} {custom_channelTitle} {custom_description}\"\n",
    "    custom_text_vectorized = vectorizer.transform([custom_text])\n",
    "    answer = model.predict(custom_text_vectorized)[0]\n",
    "    print(\"I think the category is : \" + categDict[str(answer)].upper() )"
   ]
  },
  {
   "cell_type": "code",
   "execution_count": 49,
   "id": "d3081a9b-d9c9-4f90-8f8a-f68d123debaf",
   "metadata": {},
   "outputs": [
    {
     "name": "stdout",
     "output_type": "stream",
     "text": [
      "I think the category is : COMEDY\n"
     ]
    }
   ],
   "source": [
    "custom_title = \"Funny cats compilation\"\n",
    "custom_tags = \"animals|cats|kitties|funny|compilation\"\n",
    "custom_channelTitle = \"Cool\"\n",
    "custom_description = \"watch funny cats HD high quality video mega compilation. Funny animals\"\n",
    "\n",
    "predictCateg(custom_title, custom_tags, custom_channelTitle, custom_description)"
   ]
  },
  {
   "cell_type": "code",
   "execution_count": 50,
   "id": "81335813-d34a-4563-90c2-8fb3e9988b49",
   "metadata": {},
   "outputs": [
    {
     "name": "stdout",
     "output_type": "stream",
     "text": [
      "I think the category is : GAMING\n"
     ]
    }
   ],
   "source": [
    "custom_title = \"Minecraft let's play\"\n",
    "custom_tags = \"minecraft\"\n",
    "custom_channelTitle = \"Gamer44444\"\n",
    "custom_description = \"In this episode we'll search for diamonds\"\n",
    "\n",
    "predictCateg(custom_title, custom_tags, custom_channelTitle, custom_description)"
   ]
  },
  {
   "cell_type": "code",
   "execution_count": 53,
   "id": "56398566-3be0-47d1-95a3-89ff6c68c494",
   "metadata": {},
   "outputs": [
    {
     "name": "stdout",
     "output_type": "stream",
     "text": [
      "I think the category is : PEOPLE & BLOGS\n"
     ]
    }
   ],
   "source": [
    "custom_title = \"Pranking my dad\"\n",
    "custom_tags = \"prank|dad|daughter|home pranks\"\n",
    "custom_channelTitle = \"Jane\"\n",
    "custom_description = \"Watch my dad's reaction when I pull a hilarious prank on him. Fun prank\"\n",
    "\n",
    "predictCateg(custom_title, custom_tags, custom_channelTitle, custom_description)"
   ]
  },
  {
   "cell_type": "code",
   "execution_count": 52,
   "id": "f39837b1-ccc2-40d7-909f-6d47dec713af",
   "metadata": {},
   "outputs": [
    {
     "name": "stdout",
     "output_type": "stream",
     "text": [
      "I think the category is : MUSIC\n"
     ]
    }
   ],
   "source": [
    "custom_title = \"Official music video\"\n",
    "custom_tags = \"new song|guitar\"\n",
    "custom_channelTitle = \"\"\n",
    "custom_description = \"Vocals by: e composed by: e\"\n",
    "\n",
    "predictCateg(custom_title, custom_tags, custom_channelTitle, custom_description)"
   ]
  },
  {
   "cell_type": "code",
   "execution_count": 54,
   "id": "bce1f463-7e8a-4a6f-95bf-eb3b0a9aaf54",
   "metadata": {},
   "outputs": [
    {
     "name": "stdout",
     "output_type": "stream",
     "text": [
      "I think the category is : SPORTS\n"
     ]
    }
   ],
   "source": [
    "custom_title = \"Underdogs to Champions: Greatest Upsets in Sports History\"\n",
    "custom_tags = \"soccer\"\n",
    "custom_channelTitle = \"History\"\n",
    "custom_description = \"Athlete’s Journey: From Local Fields to Olympic Gold Ping Pong Prodigies: The Skill Behind the Game\"\n",
    "\n",
    "predictCateg(custom_title, custom_tags, custom_channelTitle, custom_description)"
   ]
  }
 ],
 "metadata": {
  "kernelspec": {
   "display_name": "Python 3 (ipykernel)",
   "language": "python",
   "name": "python3"
  },
  "language_info": {
   "codemirror_mode": {
    "name": "ipython",
    "version": 3
   },
   "file_extension": ".py",
   "mimetype": "text/x-python",
   "name": "python",
   "nbconvert_exporter": "python",
   "pygments_lexer": "ipython3",
   "version": "3.12.4"
  }
 },
 "nbformat": 4,
 "nbformat_minor": 5
}
=======
{
 "cells": [
  {
   "cell_type": "code",
   "execution_count": 39,
   "id": "93122561-32af-47c6-8b44-5b08cf6f8d55",
   "metadata": {},
   "outputs": [],
   "source": [
    "import pandas as pd\n",
    "\n",
    "videosUS = pd.read_csv('US_youtube_trending_data.csv')\n",
    "videosUK = pd.read_csv('GB_youtube_trending_data.csv')\n",
    "\n",
    "#print(videosUS.head())\n",
    "#print(videosUK.head())"
   ]
  },
  {
   "cell_type": "code",
   "execution_count": 45,
   "id": "64ec5306-4bdd-48c1-b24d-c4576bdbcc36",
   "metadata": {},
   "outputs": [],
   "source": [
    "categDict = {\"1\":\"Film & Animation\",\"2\":\"Autos & Vehicles\",\"10\":\"Music\",\"15\":\"Pets & Animals\",\"17\":\"Sports\",\n",
    "             \"18\":\"Short Movies\",\"19\":\"Travel & Events\",\"20\":\"Gaming\",\"21\":\"Videoblogging\",\"22\":\"People & Blogs\",\n",
    "             \"23\":\"Comedy\",\"24\":\"Entertainment\",\"25\":\"News & Politics\",\"26\":\"Howto & Style\",\"27\":\"Education\",\n",
    "             \"28\":\"Science & Technology\",\"29\":\"Nonprofits & Activism\",\"30\":\"Movies\",\"31\":\"Anime/Animation\",\n",
    "             \"32\":\"Action/Adventure\",\"33\":\"Classics\",\"34\":\"Comedy\",\"35\":\"Documentary\",\"36\":\"Drama\",\"37\":\"Family\",\n",
    "             \"38\":\"Foreign\",\"39\":\"Horror\",\"40\":\"Sci-Fi/Fantasy\",\"41\":\"Thriller\",\"42\":\"Shorts\",\"43\":\"Shows\",\"44\":\"Trailers\"}"
   ]
  },
  {
   "cell_type": "code",
   "execution_count": 40,
   "id": "c7c28ad3-b786-4fad-8d2e-d687a6ec7c5f",
   "metadata": {},
   "outputs": [],
   "source": [
    "videosAll = pd.concat([videosUS, videosUK], axis=0)\n",
    "videosAll = videosAll.reset_index(drop=True)"
   ]
  },
  {
   "cell_type": "code",
   "execution_count": 22,
   "id": "5e1a66c5-1429-41dc-b460-6e1a9445535c",
   "metadata": {},
   "outputs": [],
   "source": [
    "from sklearn.feature_extraction.text import CountVectorizer\n",
    "from sklearn.preprocessing import LabelEncoder\n",
    "from sklearn.model_selection import train_test_split"
   ]
  },
  {
   "cell_type": "code",
   "execution_count": 41,
   "id": "b9503a17-3582-4562-ab13-938257702e96",
   "metadata": {},
   "outputs": [],
   "source": [
    "videosAll['categ_predictors'] = (videosAll['tags'] + ' ' +\n",
    "                              videosAll['title'] + ' ' +\n",
    "                              videosAll['channelTitle'] + ' ' +\n",
    "                              videosAll['description']).fillna('')\n",
    "\n",
    "videosAll['categ_predictors'] = videosAll['categ_predictors'].str.replace('|', ' ').replace('.', '').replace(',', '').replace('!', '')\n",
    "\n",
    "vectorizer = CountVectorizer()\n",
    "categ_predictors = vectorizer.fit_transform(videosAll['categ_predictors'])"
   ]
  },
  {
   "cell_type": "code",
   "execution_count": 42,
   "id": "dac6177d-54f4-4c9b-abbd-43e25d77db4a",
   "metadata": {},
   "outputs": [],
   "source": [
    "from sklearn.model_selection import train_test_split\n",
    "\n",
    "X_train, X_test, y_train, y_test = train_test_split(categ_predictors, videosAll['categoryId'], test_size=0.2, random_state=0)"
   ]
  },
  {
   "cell_type": "code",
   "execution_count": 43,
   "id": "8c6540f3-88c5-4995-b10c-757148d32466",
   "metadata": {},
   "outputs": [
    {
     "name": "stdout",
     "output_type": "stream",
     "text": [
      "Accuracy: 0.9098552773540682\n",
      "              precision    recall  f1-score   support\n",
      "\n",
      "           1       0.82      0.89      0.86      3825\n",
      "           2       0.88      0.98      0.93      2446\n",
      "          10       0.96      0.95      0.95     15253\n",
      "          15       0.96      0.89      0.92       445\n",
      "          17       0.94      0.97      0.95     16105\n",
      "          19       0.94      0.96      0.95       874\n",
      "          20       0.95      0.96      0.96     19869\n",
      "          22       0.84      0.79      0.82      9328\n",
      "          23       0.89      0.90      0.89      5143\n",
      "          24       0.88      0.82      0.85     22407\n",
      "          25       0.88      0.96      0.92      3228\n",
      "          26       0.79      0.91      0.85      2572\n",
      "          27       0.94      0.91      0.93      2681\n",
      "          28       0.93      0.96      0.95      3300\n",
      "          29       0.27      0.25      0.26        40\n",
      "\n",
      "    accuracy                           0.91    107516\n",
      "   macro avg       0.86      0.87      0.87    107516\n",
      "weighted avg       0.91      0.91      0.91    107516\n",
      "\n"
     ]
    }
   ],
   "source": [
    "from sklearn.naive_bayes import MultinomialNB\n",
    "from sklearn.metrics import accuracy_score, classification_report\n",
    "\n",
    "model = MultinomialNB()\n",
    "model.fit(X_train, y_train)\n",
    "\n",
    "y_pred = model.predict(X_test)\n",
    "print(\"Accuracy:\", accuracy_score(y_test, y_pred))\n",
    "print(classification_report(y_test, y_pred))"
   ]
  },
  {
   "cell_type": "markdown",
   "id": "9cbecc6c-a5e7-4a58-8205-d07ca77a524c",
   "metadata": {},
   "source": [
    "## CUSTOM TEST FOR A SINGLE VIDEO (manually written title, tags etc)"
   ]
  },
  {
   "cell_type": "code",
   "execution_count": 48,
   "id": "8a967395-378f-4ef9-ba34-47de7f9c42f7",
   "metadata": {},
   "outputs": [],
   "source": [
    "def predictCateg(cTitle, cTags, cChannel, cDesc):\n",
    "    custom_text = f\"{custom_tags.replace('|', ' ')} {custom_title} {custom_channelTitle} {custom_description}\"\n",
    "    custom_text_vectorized = vectorizer.transform([custom_text])\n",
    "    answer = model.predict(custom_text_vectorized)[0]\n",
    "    print(\"I think the category is : \" + categDict[str(answer)].upper() )"
   ]
  },
  {
   "cell_type": "code",
   "execution_count": 49,
   "id": "d3081a9b-d9c9-4f90-8f8a-f68d123debaf",
   "metadata": {},
   "outputs": [
    {
     "name": "stdout",
     "output_type": "stream",
     "text": [
      "I think the category is : COMEDY\n"
     ]
    }
   ],
   "source": [
    "custom_title = \"Funny cats compilation\"\n",
    "custom_tags = \"animals|cats|kitties|funny|compilation\"\n",
    "custom_channelTitle = \"Cool\"\n",
    "custom_description = \"watch funny cats HD high quality video mega compilation. Funny animals\"\n",
    "\n",
    "predictCateg(custom_title, custom_tags, custom_channelTitle, custom_description)"
   ]
  },
  {
   "cell_type": "code",
   "execution_count": 50,
   "id": "81335813-d34a-4563-90c2-8fb3e9988b49",
   "metadata": {},
   "outputs": [
    {
     "name": "stdout",
     "output_type": "stream",
     "text": [
      "I think the category is : GAMING\n"
     ]
    }
   ],
   "source": [
    "custom_title = \"Minecraft let's play\"\n",
    "custom_tags = \"minecraft\"\n",
    "custom_channelTitle = \"Gamer44444\"\n",
    "custom_description = \"In this episode we'll search for diamonds\"\n",
    "\n",
    "predictCateg(custom_title, custom_tags, custom_channelTitle, custom_description)"
   ]
  },
  {
   "cell_type": "code",
   "execution_count": 53,
   "id": "56398566-3be0-47d1-95a3-89ff6c68c494",
   "metadata": {},
   "outputs": [
    {
     "name": "stdout",
     "output_type": "stream",
     "text": [
      "I think the category is : PEOPLE & BLOGS\n"
     ]
    }
   ],
   "source": [
    "custom_title = \"Pranking my dad\"\n",
    "custom_tags = \"prank|dad|daughter|home pranks\"\n",
    "custom_channelTitle = \"Jane\"\n",
    "custom_description = \"Watch my dad's reaction when I pull a hilarious prank on him. Fun prank\"\n",
    "\n",
    "predictCateg(custom_title, custom_tags, custom_channelTitle, custom_description)"
   ]
  },
  {
   "cell_type": "code",
   "execution_count": 52,
   "id": "f39837b1-ccc2-40d7-909f-6d47dec713af",
   "metadata": {},
   "outputs": [
    {
     "name": "stdout",
     "output_type": "stream",
     "text": [
      "I think the category is : MUSIC\n"
     ]
    }
   ],
   "source": [
    "custom_title = \"Official music video\"\n",
    "custom_tags = \"new song|guitar\"\n",
    "custom_channelTitle = \"\"\n",
    "custom_description = \"Vocals by: e composed by: e\"\n",
    "\n",
    "predictCateg(custom_title, custom_tags, custom_channelTitle, custom_description)"
   ]
  },
  {
   "cell_type": "code",
   "execution_count": 54,
   "id": "bce1f463-7e8a-4a6f-95bf-eb3b0a9aaf54",
   "metadata": {},
   "outputs": [
    {
     "name": "stdout",
     "output_type": "stream",
     "text": [
      "I think the category is : SPORTS\n"
     ]
    }
   ],
   "source": [
    "custom_title = \"Underdogs to Champions: Greatest Upsets in Sports History\"\n",
    "custom_tags = \"soccer\"\n",
    "custom_channelTitle = \"History\"\n",
    "custom_description = \"Athlete’s Journey: From Local Fields to Olympic Gold Ping Pong Prodigies: The Skill Behind the Game\"\n",
    "\n",
    "predictCateg(custom_title, custom_tags, custom_channelTitle, custom_description)"
   ]
  }
 ],
 "metadata": {
  "kernelspec": {
   "display_name": "Python 3 (ipykernel)",
   "language": "python",
   "name": "python3"
  },
  "language_info": {
   "codemirror_mode": {
    "name": "ipython",
    "version": 3
   },
   "file_extension": ".py",
   "mimetype": "text/x-python",
   "name": "python",
   "nbconvert_exporter": "python",
   "pygments_lexer": "ipython3",
   "version": "3.12.4"
  }
 },
 "nbformat": 4,
 "nbformat_minor": 5
}
>>>>>>> andr
